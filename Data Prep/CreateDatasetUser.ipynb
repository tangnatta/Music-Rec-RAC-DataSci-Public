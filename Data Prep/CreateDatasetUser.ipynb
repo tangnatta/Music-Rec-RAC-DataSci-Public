{
 "cells": [
  {
   "cell_type": "code",
   "execution_count": 1,
   "metadata": {},
   "outputs": [],
   "source": [
    "import librosa \n",
    "import numpy as np \n",
    "from scipy.fft import fft, fftfreq, rfft, rfftfreq \n",
    "import pandas as pd \n",
    "import matplotlib.pyplot as plt \n",
    "import math \n",
    "import crepe \n",
    "import os"
   ]
  },
  {
   "cell_type": "code",
   "execution_count": 2,
   "metadata": {},
   "outputs": [],
   "source": [
    "user_pure_db = pd.DataFrame(columns=['user', 'song', 'time', 'frequency', 'confidence', 'note'])"
   ]
  },
  {
   "cell_type": "code",
   "execution_count": 3,
   "metadata": {},
   "outputs": [
    {
     "name": "stdout",
     "output_type": "stream",
     "text": [
      "WARNING:tensorflow:From d:\\Github\\Music-Rec-RAC-DataSci\\music-rec-env\\Lib\\site-packages\\keras\\src\\losses.py:2976: The name tf.losses.sparse_softmax_cross_entropy is deprecated. Please use tf.compat.v1.losses.sparse_softmax_cross_entropy instead.\n",
      "\n",
      "WARNING:tensorflow:From d:\\Github\\Music-Rec-RAC-DataSci\\music-rec-env\\Lib\\site-packages\\keras\\src\\backend.py:1398: The name tf.executing_eagerly_outside_functions is deprecated. Please use tf.compat.v1.executing_eagerly_outside_functions instead.\n",
      "\n",
      "WARNING:tensorflow:From d:\\Github\\Music-Rec-RAC-DataSci\\music-rec-env\\Lib\\site-packages\\keras\\src\\layers\\normalization\\batch_normalization.py:979: The name tf.nn.fused_batch_norm is deprecated. Please use tf.compat.v1.nn.fused_batch_norm instead.\n",
      "\n",
      "WARNING:tensorflow:From d:\\Github\\Music-Rec-RAC-DataSci\\music-rec-env\\Lib\\site-packages\\keras\\src\\optimizers\\__init__.py:309: The name tf.train.Optimizer is deprecated. Please use tf.compat.v1.train.Optimizer instead.\n",
      "\n",
      "195/195 [==============================] - 5s 24ms/step\n"
     ]
    },
    {
     "name": "stderr",
     "output_type": "stream",
     "text": [
      "C:\\Users\\KOSEN\\AppData\\Local\\Temp\\ipykernel_6008\\66592217.py:22: FutureWarning: The behavior of DataFrame concatenation with empty or all-NA entries is deprecated. In a future version, this will no longer exclude empty or all-NA columns when determining the result dtypes. To retain the old behavior, exclude the relevant entries before the concat operation.\n",
      "  music_pure_db = pd.concat(dfs, ignore_index=True)\n"
     ]
    }
   ],
   "source": [
    "USER_MUSIC = \"D:\\\\Github\\\\Music-Rec-RAC-DataSci\\\\Earth Cover\\\\รักแรกพบ.mp3\"\n",
    "\n",
    "dfs = [user_pure_db]\n",
    "\n",
    "file = USER_MUSIC\n",
    "\n",
    "# load audio file\n",
    "y, sr = librosa.load(file)\n",
    "time, frequency, confidence, activation = crepe.predict(y, sr, model_capacity='tiny', viterbi=True)\n",
    "\n",
    "df = pd.DataFrame({'time': time, 'frequency': frequency, 'confidence': confidence})\n",
    "# df['note']=df['frequency'].apply(lambda x: librosa.hz_to_note (x))\n",
    "\n",
    "df['user'] = \"Earth\"\n",
    "df['song'] = \"รักแรกพบ\"\n",
    "dfs.append(df.copy())\n",
    "# df.drop(columns=['file'], inplace=False).to_csv(os.path.join(SONG_PATH, dir, 'data.csv'), index=False) #! Obsolete Version \n",
    "df.to_parquet(\n",
    "    os.path.join(\"D:\\\\Github\\\\Music-Rec-RAC-DataSci\\\\Tee cover\", 'รักแรกพบ.parquet'), index=False)\n",
    "\n",
    "\n",
    "music_pure_db = pd.concat(dfs, ignore_index=True)\n",
    "\n",
    "music_pure_db.sort_values(by=['user', 'time'], inplace=True)\n",
    "music_pure_db['note']=librosa.hz_to_note(music_pure_db['frequency'])"
   ]
  },
  {
   "cell_type": "code",
   "execution_count": 4,
   "metadata": {},
   "outputs": [],
   "source": [
    "# music_pure_db['confidence'].clip(lower=0.8, upper=1).value_counts(\n",
    "# ).sort_values()"
   ]
  },
  {
   "cell_type": "code",
   "execution_count": 5,
   "metadata": {},
   "outputs": [],
   "source": [
    "# music_pure_db[music_pure_db['confidence']>0.5]['note'].value_counts()"
   ]
  },
  {
   "cell_type": "code",
   "execution_count": 6,
   "metadata": {},
   "outputs": [],
   "source": [
    "# music_pure_db[music_pure_db['confidence'] > 0.8].tail(5)"
   ]
  },
  {
   "cell_type": "code",
   "execution_count": 7,
   "metadata": {},
   "outputs": [],
   "source": [
    "def scoring(freq, note):\n",
    "    note_freq = librosa.note_to_hz(note)\n",
    "    if freq>=note_freq:\n",
    "        return 1-(12*(math.log2(freq/note_freq)))\n",
    "    else:\n",
    "        return 1-(12*(math.log2(note_freq/freq)))\n",
    "\n",
    "\n",
    "# music_pure_db = music_pure_db[music_pure_db['confidence'] > 0.8] # thresholding to eliminate low confidence (noise)\n",
    "music_pure_db['score'] = music_pure_db.apply(lambda x: scoring(x['frequency'], x['note']), axis=1)"
   ]
  },
  {
   "cell_type": "code",
   "execution_count": 8,
   "metadata": {},
   "outputs": [],
   "source": [
    "# music_pure_db['score'].value_counts().sort_index()"
   ]
  },
  {
   "cell_type": "code",
   "execution_count": 9,
   "metadata": {},
   "outputs": [],
   "source": [
    "music_pure_db.to_csv(os.path.join(\n",
    "    \"D:\\\\Github\\\\Music-Rec-RAC-DataSci\\\\Earth cover\", 'รักแรกพบ - score.csv'), index=False)"
   ]
  },
  {
   "cell_type": "code",
   "execution_count": 10,
   "metadata": {},
   "outputs": [],
   "source": [
    "# load data \n",
    "# music_pure_db = pd.read_csv('music_pure_db.csv')\n",
    "\n",
    "# music_pure_db = pd.read_parquet('music_pure_db.parquet')"
   ]
  },
  {
   "cell_type": "code",
   "execution_count": 11,
   "metadata": {},
   "outputs": [],
   "source": [
    "# DB_music = pd.read_csv('DB_music.csv')"
   ]
  },
  {
   "cell_type": "code",
   "execution_count": 12,
   "metadata": {},
   "outputs": [],
   "source": [
    "DB_music = pd.DataFrame(columns=['Name', 'E2_binary', 'F2_binary', 'F♯2_binary',\n",
    "       'G2_binary', 'G♯2_binary', 'A2_binary', 'A♯2_binary', 'B2_binary',\n",
    "       'C3_binary', 'C♯3_binary', 'D3_binary', 'D♯3_binary', 'E3_binary',\n",
    "       'F3_binary', 'F♯3_binary', 'G3_binary', 'G♯3_binary', 'A3_binary',\n",
    "       'A♯3_binary', 'B3_binary', 'C4_binary', 'C♯4_binary', 'D4_binary',\n",
    "       'D♯4_binary', 'E4_binary', 'F4_binary', 'F♯4_binary', 'G4_binary',\n",
    "       'G♯4_binary', 'A4_binary', 'A♯4_binary', 'B4_binary', 'C5_binary',\n",
    "       'C♯5_binary', 'D5_binary', 'D♯5_binary', 'E5_binary', 'F5_binary',\n",
    "       'F♯5_binary', 'G5_binary', 'G♯5_binary', 'A5_binary', 'A♯5_binary',\n",
    "       'B5_binary', 'C6_binary', 'E2_score', 'F2_score', 'F♯2_score', 'G2_score',\n",
    "       'G♯2_score', 'A2_score', 'A♯2_score', 'B2_score', 'C3_score', 'C♯3_score',\n",
    "       'D3_score', 'D♯3_score', 'E3_score', 'F3_score', 'F♯3_score', 'G3_score',\n",
    "       'G♯3_score', 'A3_score', 'A♯3_score', 'B3_score', 'C4_score', 'C♯4_score',\n",
    "       'D4_score', 'D♯4_score', 'E4_score', 'F4_score', 'F♯4_score', 'G4_score',\n",
    "       'G♯4_score', 'A4_score', 'A♯4_score', 'B4_score', 'C5_score', 'C♯5_score',\n",
    "       'D5_score', 'D♯5_score', 'E5_score', 'F5_score', 'F♯5_score', 'G5_score',\n",
    "       'G♯5_score', 'A5_score', 'A♯5_score', 'B5_score', 'C6_score'])"
   ]
  },
  {
   "cell_type": "code",
   "execution_count": 13,
   "metadata": {},
   "outputs": [
    {
     "name": "stderr",
     "output_type": "stream",
     "text": [
      "C:\\Users\\KOSEN\\AppData\\Local\\Temp\\ipykernel_6008\\1299247859.py:22: FutureWarning: The behavior of DataFrame concatenation with empty or all-NA entries is deprecated. In a future version, this will no longer exclude empty or all-NA columns when determining the result dtypes. To retain the old behavior, exclude the relevant entries before the concat operation.\n",
      "  DB_music = pd.concat([DB_music, df], ignore_index=True)\n"
     ]
    },
    {
     "data": {
      "text/html": [
       "<div>\n",
       "<style scoped>\n",
       "    .dataframe tbody tr th:only-of-type {\n",
       "        vertical-align: middle;\n",
       "    }\n",
       "\n",
       "    .dataframe tbody tr th {\n",
       "        vertical-align: top;\n",
       "    }\n",
       "\n",
       "    .dataframe thead th {\n",
       "        text-align: right;\n",
       "    }\n",
       "</style>\n",
       "<table border=\"1\" class=\"dataframe\">\n",
       "  <thead>\n",
       "    <tr style=\"text-align: right;\">\n",
       "      <th></th>\n",
       "      <th>Name</th>\n",
       "      <th>E2_binary</th>\n",
       "      <th>F2_binary</th>\n",
       "      <th>F♯2_binary</th>\n",
       "      <th>G2_binary</th>\n",
       "      <th>G♯2_binary</th>\n",
       "      <th>A2_binary</th>\n",
       "      <th>A♯2_binary</th>\n",
       "      <th>B2_binary</th>\n",
       "      <th>C3_binary</th>\n",
       "      <th>...</th>\n",
       "      <th>C2_score</th>\n",
       "      <th>C♯2_score</th>\n",
       "      <th>D2_score</th>\n",
       "      <th>D♯1_score</th>\n",
       "      <th>D♯2_score</th>\n",
       "      <th>E1_score</th>\n",
       "      <th>F1_score</th>\n",
       "      <th>F♯1_score</th>\n",
       "      <th>G1_score</th>\n",
       "      <th>G♯1_score</th>\n",
       "    </tr>\n",
       "  </thead>\n",
       "  <tbody>\n",
       "    <tr>\n",
       "      <th>0</th>\n",
       "      <td>รักแรกพบ | Earth</td>\n",
       "      <td>0.0</td>\n",
       "      <td>0.0</td>\n",
       "      <td>0.0</td>\n",
       "      <td>0.0</td>\n",
       "      <td>1.0</td>\n",
       "      <td>0.0</td>\n",
       "      <td>1.0</td>\n",
       "      <td>1.0</td>\n",
       "      <td>1.0</td>\n",
       "      <td>...</td>\n",
       "      <td>0.76225</td>\n",
       "      <td>0.940238</td>\n",
       "      <td>0.846497</td>\n",
       "      <td>0.672121</td>\n",
       "      <td>0.797248</td>\n",
       "      <td>0.639123</td>\n",
       "      <td>0.849427</td>\n",
       "      <td>0.735709</td>\n",
       "      <td>0.569132</td>\n",
       "      <td>0.811379</td>\n",
       "    </tr>\n",
       "  </tbody>\n",
       "</table>\n",
       "<p>1 rows × 117 columns</p>\n",
       "</div>"
      ],
      "text/plain": [
       "               Name  E2_binary  F2_binary  F♯2_binary  G2_binary  G♯2_binary  \\\n",
       "0  รักแรกพบ | Earth        0.0        0.0         0.0        0.0         1.0   \n",
       "\n",
       "   A2_binary  A♯2_binary  B2_binary  C3_binary  ...  C2_score  C♯2_score  \\\n",
       "0        0.0         1.0        1.0        1.0  ...   0.76225   0.940238   \n",
       "\n",
       "   D2_score  D♯1_score  D♯2_score  E1_score  F1_score  F♯1_score  G1_score  \\\n",
       "0  0.846497   0.672121   0.797248  0.639123  0.849427   0.735709  0.569132   \n",
       "\n",
       "   G♯1_score  \n",
       "0   0.811379  \n",
       "\n",
       "[1 rows x 117 columns]"
      ]
     },
     "execution_count": 13,
     "metadata": {},
     "output_type": "execute_result"
    }
   ],
   "source": [
    "for song in music_pure_db['song'].unique():\n",
    "    # music_pure_db[music_pure_db['file']==song].to_csv(song+'.csv', index=False)\n",
    "    cache = music_pure_db[music_pure_db['song'] == song]\n",
    "    user = cache['user'].unique()[0]\n",
    "    df = pd.DataFrame(cache['note'].value_counts().sort_index(key=lambda x: librosa.note_to_hz(x)))\n",
    "    \n",
    "    binary = df.copy()\n",
    "    binary.index = binary.index + \"_binary\"\n",
    "    binary['count'] = binary['count'].apply(lambda x: 1 if x>binary['count'].sum()*0.02 else 0)\n",
    "    # binary.columns = ['count']\n",
    "    \n",
    "    df = pd.DataFrame(cache[['note', 'score']]).set_index('note')\n",
    "    score = df.groupby(df.index).mean()\n",
    "    score.index = score.index + \"_score\"    \n",
    "    score.columns = ['count']\n",
    "    \n",
    "    df = pd.concat([binary, score])\n",
    "    df = df.transpose()\n",
    "    \n",
    "    df['Name'] = str(song) + \" | \" + str(user)\n",
    "    \n",
    "    DB_music = pd.concat([DB_music, df], ignore_index=True)\n",
    "\n",
    "DB_music"
   ]
  },
  {
   "cell_type": "code",
   "execution_count": 14,
   "metadata": {},
   "outputs": [],
   "source": [
    "DB_music[['E2_score', 'F2_score', 'F♯2_score', 'G2_score',\n",
    "          'G♯2_score', 'A2_score', 'A♯2_score', 'B2_score', 'C3_score', 'C♯3_score',\n",
    "          'D3_score', 'D♯3_score', 'E3_score', 'F3_score', 'F♯3_score', 'G3_score',\n",
    "          'G♯3_score', 'A3_score', 'A♯3_score', 'B3_score', 'C4_score', 'C♯4_score',\n",
    "          'D4_score', 'D♯4_score', 'E4_score', 'F4_score', 'F♯4_score', 'G4_score',\n",
    "          'G♯4_score', 'A4_score', 'A♯4_score', 'B4_score', 'C5_score', 'C♯5_score',\n",
    "          'D5_score', 'D♯5_score', 'E5_score', 'F5_score', 'F♯5_score', 'G5_score',\n",
    "          'G♯5_score', 'A5_score', 'A♯5_score', 'B5_score', 'C6_score']] = DB_music[['E2_score', 'F2_score', 'F♯2_score', 'G2_score',\n",
    "                                                                               'G♯2_score', 'A2_score', 'A♯2_score', 'B2_score', 'C3_score', 'C♯3_score',\n",
    "                                                                               'D3_score', 'D♯3_score', 'E3_score', 'F3_score', 'F♯3_score', 'G3_score',\n",
    "                                                                               'G♯3_score', 'A3_score', 'A♯3_score', 'B3_score', 'C4_score', 'C♯4_score',\n",
    "                                                                               'D4_score', 'D♯4_score', 'E4_score', 'F4_score', 'F♯4_score', 'G4_score',\n",
    "                                                                               'G♯4_score', 'A4_score', 'A♯4_score', 'B4_score', 'C5_score', 'C♯5_score',\n",
    "                                                                               'D5_score', 'D♯5_score', 'E5_score', 'F5_score', 'F♯5_score', 'G5_score',\n",
    "                                                                               'G♯5_score', 'A5_score', 'A♯5_score', 'B5_score', 'C6_score']].fillna(0.63)"
   ]
  },
  {
   "cell_type": "code",
   "execution_count": 15,
   "metadata": {},
   "outputs": [],
   "source": [
    "DB_music.to_csv(os.path.join(\n",
    "    \"D:\\\\Github\\\\Music-Rec-RAC-DataSci\\\\Earth cover\", 'DB_earth_รักแรกพบ.csv'), index=False)"
   ]
  }
 ],
 "metadata": {
  "kernelspec": {
   "display_name": "music-rec-env",
   "language": "python",
   "name": "python3"
  },
  "language_info": {
   "codemirror_mode": {
    "name": "ipython",
    "version": 3
   },
   "file_extension": ".py",
   "mimetype": "text/x-python",
   "name": "python",
   "nbconvert_exporter": "python",
   "pygments_lexer": "ipython3",
   "version": "3.11.4"
  }
 },
 "nbformat": 4,
 "nbformat_minor": 2
}
