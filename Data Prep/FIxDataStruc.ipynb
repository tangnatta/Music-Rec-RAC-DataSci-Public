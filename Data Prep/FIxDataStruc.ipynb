{
 "cells": [
  {
   "cell_type": "code",
   "execution_count": 1,
   "metadata": {},
   "outputs": [],
   "source": [
    "import os"
   ]
  },
  {
   "cell_type": "code",
   "execution_count": 4,
   "metadata": {},
   "outputs": [
    {
     "data": {
      "text/plain": [
       "['Please.mp3',\n",
       " 'กล้าพอไหม.mp3',\n",
       " 'ขอบคุณที่รักกัน.mp3',\n",
       " 'คนไกล.mp3',\n",
       " 'คนไม่คุย.mp3',\n",
       " 'คืนที่ดาวเต็มฟ้า.mp3',\n",
       " 'คุกเข่า.mp3',\n",
       " 'คู่ชีวิต.mp3',\n",
       " 'จดจำ.mp3',\n",
       " 'ช่างมัน.mp3',\n",
       " 'ดาวหางฮัลเลย์.mp3',\n",
       " 'ถ้าเธอรักใครคนหนึ่ง.mp3',\n",
       " 'ทักครับ.mp3',\n",
       " 'ทางของฝุ่น.mp3',\n",
       " 'ทุกนาทีที่สวยงาม.mp3',\n",
       " 'น้ำตาสุดท้าย.mp3',\n",
       " 'น้ำหอม.mp3',\n",
       " 'พิง.mp3',\n",
       " 'ยอมแค่เธอ.mp3',\n",
       " 'รัก 2 ขีด.mp3',\n",
       " 'ร่มสีเทา.mp3',\n",
       " 'ลูกอม.mp3',\n",
       " 'วันนี้ปีที่แล้ว.mp3',\n",
       " 'สถานีดวงจันทร์.mp3',\n",
       " 'สลักจิต.mp3',\n",
       " 'อ้าว.mp3',\n",
       " 'เกิดมาแค่รักกัน.mp3',\n",
       " 'เกินปุยมุ้ย.mp3',\n",
       " 'เธอ.mp3',\n",
       " 'เธอยัง.mp3',\n",
       " 'เพลงรักเพลงแรก.mp3',\n",
       " 'เส้นบางๆ.mp3',\n",
       " 'เอาปากกามาวง.mp3',\n",
       " 'โต๊ะริม.mp3',\n",
       " 'ได้แต่นึกถึง.mp3',\n",
       " 'ไม่เป็นรอง.mp3']"
      ]
     },
     "execution_count": 4,
     "metadata": {},
     "output_type": "execute_result"
    }
   ],
   "source": [
    "SONG_PATH = \"C:\\\\Users\\\\KOSEN\\\\Downloads\\\\Vocals 3-20240315T060739Z-001\\\\Vocals 3\"\n",
    "\n",
    "# os.listdir(SONG_PATH)\n",
    "\n",
    "dirs = [f for f in os.listdir(SONG_PATH) if os.path.isfile(\n",
    "    os.path.join(SONG_PATH, f))]\n",
    "dirs"
   ]
  },
  {
   "cell_type": "code",
   "execution_count": 5,
   "metadata": {},
   "outputs": [],
   "source": [
    "# replace with your folder path\n",
    "new_folder_path = os.path.join(SONG_PATH, \"output\")\n",
    "\n",
    "if not os.path.exists(new_folder_path):\n",
    "    os.mkdir(new_folder_path)"
   ]
  },
  {
   "cell_type": "code",
   "execution_count": 6,
   "metadata": {},
   "outputs": [],
   "source": [
    "import shutil\n",
    "\n",
    "# iterate over all files in dirs\n",
    "for file_name in dirs:\n",
    "    # create a subfolder for each file\n",
    "    subfolder_path = os.path.join(new_folder_path, os.path.splitext(file_name)[0])\n",
    "    os.makedirs(subfolder_path, exist_ok=True)\n",
    "    \n",
    "    # copy the file to the new subfolder\n",
    "    shutil.copy2(os.path.join(SONG_PATH, file_name), subfolder_path)\n",
    "    \n",
    "    # define the old and new file paths\n",
    "    old_file_path = os.path.join(subfolder_path, file_name)\n",
    "    new_file_path = os.path.join(subfolder_path, \"vocals.mp3\")\n",
    "\n",
    "    # rename the file\n",
    "    os.rename(old_file_path, new_file_path)\n",
    "    # break\n"
   ]
  },
  {
   "cell_type": "code",
   "execution_count": null,
   "metadata": {},
   "outputs": [],
   "source": []
  }
 ],
 "metadata": {
  "kernelspec": {
   "display_name": "music-rec-env",
   "language": "python",
   "name": "python3"
  },
  "language_info": {
   "codemirror_mode": {
    "name": "ipython",
    "version": 3
   },
   "file_extension": ".py",
   "mimetype": "text/x-python",
   "name": "python",
   "nbconvert_exporter": "python",
   "pygments_lexer": "ipython3",
   "version": "3.11.4"
  }
 },
 "nbformat": 4,
 "nbformat_minor": 2
}
